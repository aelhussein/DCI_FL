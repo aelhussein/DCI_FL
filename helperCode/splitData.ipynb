{
 "cells": [
  {
   "cell_type": "code",
   "execution_count": 1,
   "id": "b822dedc",
   "metadata": {},
   "outputs": [],
   "source": [
    "import pandas as pd\n",
    "import numpy as np\n",
    "from sklearn.model_selection import train_test_split"
   ]
  },
  {
   "cell_type": "code",
   "execution_count": 2,
   "id": "56b55eb1",
   "metadata": {
    "scrolled": true
   },
   "outputs": [],
   "source": [
    "##load features and cohort data\n",
    "path = '/gpfs/commons/groups/gursoy_lab/aelhussein/DCI_FL/Data/'\n",
    "data = pd.read_csv(path+'dataset.csv')\n",
    "cohort = pd.read_csv(path+'cohort_use.csv')"
   ]
  },
  {
   "cell_type": "code",
   "execution_count": 3,
   "id": "fa3db87f",
   "metadata": {},
   "outputs": [],
   "source": [
    "##create full dataset then split features and outcomes (needed as not full cohort in the dataset) \n",
    "full_df = data.merge(cohort[['hadm_id', 'outcome']], on = 'hadm_id').set_index('hadm_id')\n",
    "X = full_df.loc[:, ~full_df.columns.isin(['outcome', 'hours_since_admit'])]\n",
    "y = full_df['outcome']"
   ]
  },
  {
   "cell_type": "code",
   "execution_count": 4,
   "id": "a1d96378",
   "metadata": {},
   "outputs": [],
   "source": [
    "## split into 2 datasets\n",
    "X_1, X_2, y_1, y_2 = train_test_split(X,y, test_size = 0.5)"
   ]
  },
  {
   "cell_type": "code",
   "execution_count": 5,
   "id": "197fd75e",
   "metadata": {},
   "outputs": [
    {
     "data": {
      "text/plain": [
       "hadm_id\n",
       "25120639    0\n",
       "22973138    0\n",
       "20977284    0\n",
       "29620775    1\n",
       "26491691    0\n",
       "           ..\n",
       "27499142    0\n",
       "29114446    1\n",
       "28174301    0\n",
       "22410076    1\n",
       "22013856    0\n",
       "Name: outcome, Length: 1563, dtype: int64"
      ]
     },
     "execution_count": 5,
     "metadata": {},
     "output_type": "execute_result"
    }
   ],
   "source": [
    "y_1"
   ]
  },
  {
   "cell_type": "code",
   "execution_count": 6,
   "id": "51930a2b",
   "metadata": {},
   "outputs": [],
   "source": [
    "path = '/gpfs/commons/groups/gursoy_lab/aelhussein/DCI_FL/'\n",
    "X_1.to_csv(path+'client_1/Data/X.csv')\n",
    "X_2.to_csv(path+'client_2/Data/X.csv')\n",
    "y_1.to_csv(path+'client_1/Data/y.csv', index = True)\n",
    "y_2.to_csv(path+'client_2/Data/y.csv', index = True)"
   ]
  }
 ],
 "metadata": {
  "kernelspec": {
   "display_name": "Python 3 (ipykernel)",
   "language": "python",
   "name": "python3"
  },
  "language_info": {
   "codemirror_mode": {
    "name": "ipython",
    "version": 3
   },
   "file_extension": ".py",
   "mimetype": "text/x-python",
   "name": "python",
   "nbconvert_exporter": "python",
   "pygments_lexer": "ipython3",
   "version": "3.7.13"
  }
 },
 "nbformat": 4,
 "nbformat_minor": 5
}
