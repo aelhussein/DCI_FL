{
 "cells": [
  {
   "cell_type": "code",
   "execution_count": 15,
   "id": "46ab09d5",
   "metadata": {},
   "outputs": [
    {
     "ename": "ModuleNotFoundError",
     "evalue": "No module named 'tensorflow_federated'",
     "output_type": "error",
     "traceback": [
      "\u001b[0;31m---------------------------------------------------------------------------\u001b[0m",
      "\u001b[0;31mModuleNotFoundError\u001b[0m                       Traceback (most recent call last)",
      "Input \u001b[0;32mIn [15]\u001b[0m, in \u001b[0;36m<cell line: 4>\u001b[0;34m()\u001b[0m\n\u001b[1;32m      2\u001b[0m \u001b[38;5;28;01mimport\u001b[39;00m \u001b[38;5;21;01mnumpy\u001b[39;00m \u001b[38;5;28;01mas\u001b[39;00m \u001b[38;5;21;01mnp\u001b[39;00m\n\u001b[1;32m      3\u001b[0m \u001b[38;5;28;01mimport\u001b[39;00m \u001b[38;5;21;01mtensorflow\u001b[39;00m \u001b[38;5;28;01mas\u001b[39;00m \u001b[38;5;21;01mtf\u001b[39;00m\n\u001b[0;32m----> 4\u001b[0m \u001b[38;5;28;01mimport\u001b[39;00m \u001b[38;5;21;01mtensorflow_federated\u001b[39;00m \u001b[38;5;28;01mas\u001b[39;00m \u001b[38;5;21;01mtff\u001b[39;00m\n\u001b[1;32m      5\u001b[0m \u001b[38;5;28;01mfrom\u001b[39;00m \u001b[38;5;21;01msklearn\u001b[39;00m\u001b[38;5;21;01m.\u001b[39;00m\u001b[38;5;21;01mmodel_selection\u001b[39;00m \u001b[38;5;28;01mimport\u001b[39;00m train_test_split\n\u001b[1;32m      6\u001b[0m \u001b[38;5;28;01mfrom\u001b[39;00m \u001b[38;5;21;01msklearn\u001b[39;00m\u001b[38;5;21;01m.\u001b[39;00m\u001b[38;5;21;01mpreprocessing\u001b[39;00m \u001b[38;5;28;01mimport\u001b[39;00m StandardScaler\n",
      "\u001b[0;31mModuleNotFoundError\u001b[0m: No module named 'tensorflow_federated'"
     ]
    }
   ],
   "source": [
    "import pandas as pd\n",
    "import numpy as np\n",
    "import tensorflow as tf\n",
    "import tensorflow_federated as tff\n",
    "from sklearn.model_selection import train_test_split\n",
    "from sklearn.preprocessing import StandardScaler\n",
    "from sklearn import metrics\n",
    "from sklearn.ensemble import RandomForestClassifier\n",
    "from sklearn.linear_model import LogisticRegression"
   ]
  },
  {
   "cell_type": "code",
   "execution_count": 5,
   "id": "8e87a2dc",
   "metadata": {
    "scrolled": true
   },
   "outputs": [],
   "source": [
    "##load features and cohort data\n",
    "path = '/gpfs/commons/groups/gursoy_lab/aelhussein/DCI_FL/Data/'\n",
    "data = pd.read_csv(path+'dataset.csv')\n",
    "cohort = pd.read_csv(path+'cohort_use.csv')"
   ]
  },
  {
   "cell_type": "code",
   "execution_count": 6,
   "id": "683d6c00",
   "metadata": {},
   "outputs": [],
   "source": [
    "##create full dataset then split features and outcomes (needed as not full cohort in the dataset) \n",
    "full_df = data.merge(cohort[['hadm_id', 'outcome']], on = 'hadm_id').set_index('hadm_id')\n",
    "X = full_df.loc[:, ~full_df.columns.isin(['outcome', 'hours_since_admit'])]\n",
    "y = full_df['outcome']"
   ]
  },
  {
   "cell_type": "code",
   "execution_count": 7,
   "id": "13e6ed1d",
   "metadata": {},
   "outputs": [],
   "source": [
    "## train-test split\n",
    "X_train, X_test, y_train, y_test = train_test_split(X,y, test_size = 0.8)\n",
    "\n",
    "## create scaler and apply only to numeric data before adding binary data\n",
    "scaler = StandardScaler()\n",
    "X_train_norm = scaler.fit_transform(X_train.iloc[:,:-5])\n",
    "X_train_norm = pd.DataFrame(X_train_norm, index = X_train.index, columns = X_train.columns[:-5])\n",
    "X_train_norm = X_train_norm.merge(X_train.iloc[:,-5:], left_index = True, right_index = True)\n",
    "\n",
    "##apply scaler to test data\n",
    "X_test_norm = scaler.transform(X_test.iloc[:,:-5])\n",
    "X_test_norm = pd.DataFrame(X_test_norm, index = X_test.index, columns = X_test.columns[:-5])\n",
    "X_test_norm = X_test_norm.merge(X_test.iloc[:,-5:], left_index = True, right_index = True)"
   ]
  },
  {
   "cell_type": "code",
   "execution_count": 8,
   "id": "62f08ce5",
   "metadata": {},
   "outputs": [],
   "source": [
    "SERVER_0 = '172.24.145.62'\n",
    "SERVER_1 = '172.24.145.64'\n",
    "SERVER_2 = '172.24.145.63'\n",
    "NUM_CLIENTS = 2"
   ]
  },
  {
   "cell_type": "code",
   "execution_count": 9,
   "id": "0c7a7a29",
   "metadata": {},
   "outputs": [],
   "source": [
    "##create the keras model (LR in this case)\n",
    "def create_keras_model():\n",
    "    initializer = tf.keras.initializers.GlorotNormal(seed=0)\n",
    "    ##build LR model\n",
    "    number_of_classes = 2\n",
    "    number_of_features = X_train.shape[0]\n",
    "    model = Sequential()\n",
    "    model.add(Dense(number_of_classes,activation = 'sigmoid',input_dim = number_of_features))\n",
    "    return model"
   ]
  },
  {
   "cell_type": "code",
   "execution_count": null,
   "id": "2a5c4a70",
   "metadata": {},
   "outputs": [],
   "source": [
    "##model forward pass using TFF\n",
    "def model_fn():\n",
    "    keras_model = create_keras_model()\n",
    "    return tff.learning.from_keras_model(\n",
    "      keras_model,\n",
    "      loss=tf.keras.losses.BinaryCrosseentropy,\n",
    "      metrics=[tf.keras.metrics.AUC()])\n"
   ]
  },
  {
   "cell_type": "code",
   "execution_count": null,
   "id": "09f7b57b",
   "metadata": {},
   "outputs": [],
   "source": [
    "##Initialize model\n",
    "def initialize_fn():\n",
    "    model = model_fn()\n",
    "    return model.trainable_variables"
   ]
  },
  {
   "cell_type": "code",
   "execution_count": null,
   "id": "d71eabad",
   "metadata": {},
   "outputs": [],
   "source": [
    "##Broad cast a forward pass\n",
    "def next_fn(server_weights, federated_dataset):\n",
    "    ##Broadcast the server weights to the clients.\n",
    "    server_weights_at_client = broadcast(server_weights)\n",
    "\n",
    "    ##Each client computes their updated weights.\n",
    "    client_weights = client_update(federated_dataset, server_weights_at_client)\n",
    "\n",
    "    ##The server averages these updates.\n",
    "    mean_client_weights = mean(client_weights)\n",
    "\n",
    "    ##The server updates its model.\n",
    "    server_weights = server_update(mean_client_weights)\n",
    "\n",
    "    return server_weights\n"
   ]
  }
 ],
 "metadata": {
  "kernelspec": {
   "display_name": "Python 3 (ipykernel)",
   "language": "python",
   "name": "python3"
  },
  "language_info": {
   "codemirror_mode": {
    "name": "ipython",
    "version": 3
   },
   "file_extension": ".py",
   "mimetype": "text/x-python",
   "name": "python",
   "nbconvert_exporter": "python",
   "pygments_lexer": "ipython3",
   "version": "3.9.7"
  }
 },
 "nbformat": 4,
 "nbformat_minor": 5
}
