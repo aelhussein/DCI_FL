{
 "cells": [
  {
   "cell_type": "code",
   "execution_count": 2,
   "id": "77416f69",
   "metadata": {},
   "outputs": [],
   "source": [
    "import os\n",
    "import pandas as pd\n",
    "import numpy as np\n",
    "from sklearn.model_selection import train_test_split\n",
    "from sklearn.preprocessing import StandardScaler\n",
    "from sklearn import metrics\n",
    "from sklearn.linear_model import SGDClassifier\n",
    "from sklearn.kernel_approximation import RBFSampler\n",
    "from sklearn.calibration import CalibratedClassifierCV\n",
    "import warnings\n",
    "warnings.filterwarnings(\"ignore\")\n",
    "import contextlib\n",
    "import math\n",
    "import _pickle as cPickle\n",
    "import random\n",
    "import sys\n",
    "import argparse\n",
    "import subprocess"
   ]
  },
  {
   "cell_type": "code",
   "execution_count": 3,
   "id": "36209fbc",
   "metadata": {},
   "outputs": [],
   "source": [
    "##load the data and create train/test split\n",
    "def dataloader(path, RBF):\n",
    "    ##load features and cohort data\n",
    "    X = pd.read_csv(path+'X.csv', index_col = 'hadm_id')\n",
    "    y = pd.read_csv(path+'y.csv', index_col = 'hadm_id')\n",
    "\n",
    "    ## train-test split\n",
    "    X_train, X_test, y_train, y_test = train_test_split(X,y, train_size = 0.8, random_state=1)\n",
    "    #create validation set too\n",
    "    X_train, X_val, y_train, y_val = train_test_split(X_train, y_train, test_size=0.25, random_state=1)\n",
    "\n",
    "    ## create scaler and apply only to numeric data before adding binary data\n",
    "    scaler = StandardScaler()\n",
    "    X_train_norm = scaler.fit_transform(X_train.iloc[:,:-5])\n",
    "    X_train_norm = pd.DataFrame(X_train_norm, index = X_train.index, columns = X_train.columns[:-5])\n",
    "    X_train_norm = X_train_norm.merge(X_train.iloc[:,-5:], left_index = True, right_index = True)\n",
    "\n",
    "    ##apply scaler to test data\n",
    "    X_test_norm = scaler.transform(X_test.iloc[:,:-5])\n",
    "    X_test_norm = pd.DataFrame(X_test_norm, index = X_test.index, columns = X_test.columns[:-5])\n",
    "    X_test_norm = X_test_norm.merge(X_test.iloc[:,-5:], left_index = True, right_index = True)\n",
    "    \n",
    "    ##apply scaler to val data\n",
    "    X_val_norm = scaler.transform(X_val.iloc[:,:-5])\n",
    "    X_val_norm = pd.DataFrame(X_val_norm, index = X_val.index, columns = X_val.columns[:-5])\n",
    "    X_val_norm = X_val_norm.merge(X_val.iloc[:,-5:], left_index = True, right_index = True)\n",
    "    \n",
    "    ##turn into arrays\n",
    "    x = X_train_norm, X_test_norm, X_val_norm, y_train, y_test, y_val\n",
    "    X_train_norm, X_test_norm, X_val_norm, y_train, y_test, y_val = tuple(map(np.array, x))\n",
    "    \n",
    "    ##RBF if transform wanted\n",
    "    if RBF == 'True':\n",
    "        rbf_sampler = RBFSampler(gamma =1, random_state =1)\n",
    "        X_train_norm = rbf_sampler.fit_transform(X_train_norm)\n",
    "        X_val_norm = rbf_sampler.transform(X_val_norm)\n",
    "        X_test_norm = rbf_sampler.transform(X_test_norm)\n",
    "    \n",
    "    return X_train_norm, X_test_norm, X_val_norm, y_train, y_test, y_val"
   ]
  },
  {
   "cell_type": "code",
   "execution_count": 4,
   "id": "3d68567c",
   "metadata": {},
   "outputs": [],
   "source": [
    "##load the rf  model\n",
    "def load_SVM_model(path, client):\n",
    "    with open(f'{path}{client}/model/SVM/SVM.pkl', 'rb') as f:\n",
    "        return  cPickle.load(f)"
   ]
  },
  {
   "cell_type": "code",
   "execution_count": 5,
   "id": "348944e9",
   "metadata": {},
   "outputs": [],
   "source": [
    "##load the rf  model\n",
    "def save_SVM_model(path, client, client_model):\n",
    "    with open(f'{path}{client}/model/SVM/SVM.pkl', 'wb') as f:\n",
    "        cPickle.dump(client_model, f)\n",
    "    return"
   ]
  },
  {
   "cell_type": "code",
   "execution_count": 24,
   "id": "a9756b70",
   "metadata": {},
   "outputs": [],
   "source": [
    "def exctract_coefs(client_model):\n",
    "    coef_avg = 0\n",
    "    for m in client_model.calibrated_classifiers_:\n",
    "        coef_avg = coef_avg + m.base_estimator.coef_\n",
    "    coef_avg  = coef_avg/len(client_model.calibrated_classifiers_)\n",
    "    return coef_avg"
   ]
  },
  {
   "cell_type": "code",
   "execution_count": 27,
   "id": "a4022388",
   "metadata": {},
   "outputs": [],
   "source": [
    "def fedAvg(server_1_model_coef, server_2_model_coef, relative_weights):\n",
    "    weights = [server_1_model_coef, server_2_model_coef]\n",
    "    return np.average(weights, weights = relative_weights, axis = 0)"
   ]
  },
  {
   "cell_type": "code",
   "execution_count": 33,
   "id": "13c2ac69",
   "metadata": {},
   "outputs": [],
   "source": [
    "def exctract_coefs(client_model):\n",
    "    coef_avg = 0\n",
    "    for m in client_model.calibrated_classifiers_:\n",
    "        coef_avg = coef_avg + m.base_estimator.coef_\n",
    "    coef_avg  = coef_avg/len(client_model.calibrated_classifiers_)\n",
    "    return coef_avg"
   ]
  },
  {
   "cell_type": "code",
   "execution_count": 1,
   "id": "fc610da5",
   "metadata": {},
   "outputs": [
    {
     "ename": "NameError",
     "evalue": "name 'argparse' is not defined",
     "output_type": "error",
     "traceback": [
      "\u001b[0;31m---------------------------------------------------------------------------\u001b[0m",
      "\u001b[0;31mNameError\u001b[0m                                 Traceback (most recent call last)",
      "\u001b[0;32m/tmp/ipykernel_32321/3819964245.py\u001b[0m in \u001b[0;36m<module>\u001b[0;34m\u001b[0m\n\u001b[1;32m     50\u001b[0m \u001b[0;34m\u001b[0m\u001b[0m\n\u001b[1;32m     51\u001b[0m \u001b[0;32mif\u001b[0m \u001b[0m__name__\u001b[0m \u001b[0;34m==\u001b[0m \u001b[0;34m'__main__'\u001b[0m\u001b[0;34m:\u001b[0m\u001b[0;34m\u001b[0m\u001b[0;34m\u001b[0m\u001b[0m\n\u001b[0;32m---> 52\u001b[0;31m     \u001b[0mmain\u001b[0m\u001b[0;34m(\u001b[0m\u001b[0;34m)\u001b[0m\u001b[0;34m\u001b[0m\u001b[0;34m\u001b[0m\u001b[0m\n\u001b[0m",
      "\u001b[0;32m/tmp/ipykernel_32321/3819964245.py\u001b[0m in \u001b[0;36mmain\u001b[0;34m()\u001b[0m\n\u001b[1;32m      1\u001b[0m \u001b[0;32mdef\u001b[0m \u001b[0mmain\u001b[0m\u001b[0;34m(\u001b[0m\u001b[0;34m)\u001b[0m\u001b[0;34m:\u001b[0m\u001b[0;34m\u001b[0m\u001b[0;34m\u001b[0m\u001b[0m\n\u001b[1;32m      2\u001b[0m     \u001b[0;31m# Read in the arguments provided by the master server\u001b[0m\u001b[0;34m\u001b[0m\u001b[0;34m\u001b[0m\u001b[0;34m\u001b[0m\u001b[0m\n\u001b[0;32m----> 3\u001b[0;31m     \u001b[0mparser\u001b[0m \u001b[0;34m=\u001b[0m \u001b[0margparse\u001b[0m\u001b[0;34m.\u001b[0m\u001b[0mArgumentParser\u001b[0m\u001b[0;34m(\u001b[0m\u001b[0;34m)\u001b[0m\u001b[0;34m\u001b[0m\u001b[0;34m\u001b[0m\u001b[0m\n\u001b[0m\u001b[1;32m      4\u001b[0m     \u001b[0mparser\u001b[0m\u001b[0;34m.\u001b[0m\u001b[0madd_argument\u001b[0m\u001b[0;34m(\u001b[0m\u001b[0;34m'-cl'\u001b[0m\u001b[0;34m,\u001b[0m\u001b[0;34m'--client'\u001b[0m\u001b[0;34m)\u001b[0m\u001b[0;34m\u001b[0m\u001b[0;34m\u001b[0m\u001b[0m\n\u001b[1;32m      5\u001b[0m     \u001b[0mparser\u001b[0m\u001b[0;34m.\u001b[0m\u001b[0madd_argument\u001b[0m\u001b[0;34m(\u001b[0m\u001b[0;34m'-ts'\u001b[0m\u001b[0;34m,\u001b[0m\u001b[0;34m'--test'\u001b[0m\u001b[0;34m)\u001b[0m\u001b[0;34m\u001b[0m\u001b[0;34m\u001b[0m\u001b[0m\n",
      "\u001b[0;31mNameError\u001b[0m: name 'argparse' is not defined"
     ]
    }
   ],
   "source": [
    "def main():\n",
    "    # Read in the arguments provided by the master server\n",
    "    parser = argparse.ArgumentParser()\n",
    "    parser.add_argument('-cl','--client')\n",
    "    parser.add_argument('-ts','--test')\n",
    "    parser.add_argument('-rb','--RBF', default = 'False')\n",
    "    parser.add_argument('-en','--ensemble')\n",
    "    \n",
    "    args = parser.parse_args()\n",
    "    \n",
    "    client = args.client\n",
    "    test = args.test\n",
    "    RBF = args.RBF\n",
    "    ensemble = args.ensemble\n",
    "    path = '/gpfs/commons/groups/gursoy_lab/aelhussein/DCI_FL/'\n",
    "    # Import the data\n",
    "    X_train_norm, X_test_norm, X_val_norm, y_train, y_test, y_val = dataloader(f'{path}{client}/Data/', RBF)\n",
    "    # Load and run the neural network\n",
    "    client_model= load_SVM_model(path, client)\n",
    "    if test == 'False':\n",
    "        # Fit on the train data\n",
    "        client_model.fit(X_train_norm, y_train)\n",
    "        y_train_pred = client_model.predict_proba(X_train_norm)[:,1]\n",
    "        fpr, tpr, thresholds = metrics.roc_curve(y_train, y_train_pred)\n",
    "        train_auc = metrics.auc(fpr, tpr)\n",
    "        # Evaluate on the validation set\n",
    "        y_val_pred = client_model.predict_proba(X_val_norm)[:,1]\n",
    "        fpr, tpr, thresholds = metrics.roc_curve(y_val, y_val_pred)\n",
    "        val_auc = metrics.auc(fpr, tpr)\n",
    "        # Save model\n",
    "        save_SVM_model(path, client, client_model)\n",
    "        # Send the weights back to master server\n",
    "        command = f'cp -r {path}{client}/model/SVM/* {path}server/model/client_models/{client}/SVM/'\n",
    "        subprocess.call(command, shell = True) \n",
    "\n",
    "        # Reset stdout and print\n",
    "        print(len(X_train_norm), train_auc, val_auc)\n",
    "\n",
    "    elif ensemble == 'True':\n",
    "        client_model = load_SVM_model(path, client)\n",
    "        client_model = CalibratedClassifierCV(client_model)\n",
    "        client_model.fit(X_train_norm, y_train)\n",
    "        prediction = client_model.predict_proba(X_test_norm)[:,1]\n",
    "        print(len(X_test_norm), prediction) \n",
    "        \n",
    "    else:\n",
    "        client_model = load_SVM_model(path, client)\n",
    "        y_test_pred = client_model.predict_proba(X_test_norm)[:,1]\n",
    "        fpr, tpr, thresholds = metrics.roc_curve(y_test, y_test_pred)\n",
    "        test_auc = metrics.auc(fpr, tpr)\n",
    "        print(len(X_test_norm),0 , test_auc) \n",
    "\n",
    "        \n",
    "if __name__ == '__main__':\n",
    "    main()"
   ]
  }
 ],
 "metadata": {
  "kernelspec": {
   "display_name": "Python 3 (ipykernel)",
   "language": "python",
   "name": "python3"
  },
  "language_info": {
   "codemirror_mode": {
    "name": "ipython",
    "version": 3
   },
   "file_extension": ".py",
   "mimetype": "text/x-python",
   "name": "python",
   "nbconvert_exporter": "python",
   "pygments_lexer": "ipython3",
   "version": "3.7.13"
  }
 },
 "nbformat": 4,
 "nbformat_minor": 5
}
