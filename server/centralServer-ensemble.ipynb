{
 "cells": [
  {
   "cell_type": "code",
   "execution_count": 3,
   "id": "bf1eebf5",
   "metadata": {},
   "outputs": [],
   "source": [
    "import os\n",
    "os.environ['TF_CPP_MIN_LOG_LEVEL'] = '3'\n",
    "import warnings\n",
    "warnings.filterwarnings(\"ignore\")\n",
    "import argparse\n",
    "import concurrent.futures\n",
    "import contextlib\n",
    "import matplotlib.pyplot as plt\n",
    "import numpy as np\n",
    "import pandas as pd\n",
    "import seaborn as sns\n",
    "import shutil\n",
    "import spur\n",
    "import subprocess\n",
    "import sys\n",
    "import tensorflow as tf\n",
    "import time\n",
    "from sklearn import metrics\n",
    "from sklearn.ensemble import RandomForestClassifier\n",
    "sns.set()\n",
    "tf.compat.v1.logging.set_verbosity(tf.compat.v1.logging.ERROR)"
   ]
  },
  {
   "cell_type": "code",
   "execution_count": 61,
   "id": "f474c848",
   "metadata": {},
   "outputs": [],
   "source": [
    "def run_clients(path):\n",
    "    models = ['LR', 'RF', 'SVM']\n",
    "    ##Run script\n",
    "    results = {}\n",
    "    for model in models:\n",
    "        command = f'python {path}server/centralServer-{model}.py'\n",
    "        command = command.split(' ')\n",
    "        output = subprocess.check_output(command) \n",
    "        results[model] = output.decode('utf-8').split('\\n')[0:2]\n",
    "    return results"
   ]
  },
  {
   "cell_type": "code",
   "execution_count": null,
   "id": "ba11ed49",
   "metadata": {},
   "outputs": [],
   "source": [
    "def run_ensemble(path):\n",
    "    clients = ['client_1', 'client_2']\n",
    "    ensemble_auc = []\n",
    "    sample_size = []\n",
    "    for client in clients:\n",
    "        command = f'python {path}{client}/clientServer-Ensemble.py --client={client}'\n",
    "        command = command.split(' ')\n",
    "        output = subprocess.check_output(command)\n",
    "        output = [float(x) for x in output.decode('utf-8').split(',')]\n",
    "        ensemble_auc.append(output[1])\n",
    "        sample_size.append(output[0])\n",
    "    return np.array(sample_size), np.array(ensemble_auc)"
   ]
  },
  {
   "cell_type": "code",
   "execution_count": 60,
   "id": "5051dbdd",
   "metadata": {},
   "outputs": [],
   "source": [
    "def averageResults(sample_size, ensemble_auc):\n",
    "    relative_weights = sample_size / sum(sample_size)\n",
    "    return np.sum(relative_weights * ensemble_auc)\n"
   ]
  },
  {
   "cell_type": "code",
   "execution_count": null,
   "id": "dde1fff2",
   "metadata": {},
   "outputs": [],
   "source": [
    "def main():\n",
    "    parser = argparse.ArgumentParser()\n",
    "    parser.add_argument('-s0','--centralServer', default = '')\n",
    "    parser.add_argument('-s1','--clientServer_1', default = '')\n",
    "    parser.add_argument('-s2','--clientServer_2', default = '')\n",
    "    \n",
    "    args = parser.parse_args()\n",
    "    \n",
    "    centralServer = args.centralServer\n",
    "    clientServer_1 = args.clientServer_1\n",
    "    clientServer_2 = args.clientServer_2\n",
    "    \n",
    "\n",
    "    path = '/gpfs/commons/groups/gursoy_lab/aelhussein/DCI_FL/'\n",
    "    results = run_clients(path)\n",
    "    sample_size, ensemble_auc = run_ensemble(path)\n",
    "    auc = averageResults(sample_size, ensemble_auc)\n",
    "    print(f'Ensemble AUC: {auc}')\n",
    "\n",
    "if __name__ == '__main__':\n",
    "    main()\n",
    "    "
   ]
  }
 ],
 "metadata": {
  "kernelspec": {
   "display_name": "Python 3 (ipykernel)",
   "language": "python",
   "name": "python3"
  },
  "language_info": {
   "codemirror_mode": {
    "name": "ipython",
    "version": 3
   },
   "file_extension": ".py",
   "mimetype": "text/x-python",
   "name": "python",
   "nbconvert_exporter": "python",
   "pygments_lexer": "ipython3",
   "version": "3.7.13"
  }
 },
 "nbformat": 4,
 "nbformat_minor": 5
}
