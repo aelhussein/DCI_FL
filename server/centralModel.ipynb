{
 "cells": [
  {
   "cell_type": "code",
   "execution_count": 33,
   "id": "46ab09d5",
   "metadata": {},
   "outputs": [],
   "source": [
    "import pandas as pd\n",
    "import numpy as np\n",
    "from sklearn.model_selection import train_test_split\n",
    "from sklearn.preprocessing import StandardScaler\n",
    "from sklearn import metrics\n",
    "from sklearn.ensemble import RandomForestClassifier\n",
    "from sklearn.linear_model import LogisticRegression"
   ]
  },
  {
   "cell_type": "code",
   "execution_count": 4,
   "id": "8e87a2dc",
   "metadata": {},
   "outputs": [],
   "source": [
    "##load features and cohort data\n",
    "path = '/gpfs/commons/groups/gursoy_lab/aelhussein/DCI_FL/Data/'\n",
    "data = pd.read_csv(path+'dataset.csv')\n",
    "cohort = pd.read_csv(path+'cohort_use.csv')"
   ]
  },
  {
   "cell_type": "code",
   "execution_count": 29,
   "id": "683d6c00",
   "metadata": {},
   "outputs": [],
   "source": [
    "##create full dataset then split features and outcomes (needed as not full cohort in the dataset) \n",
    "full_df = data.merge(cohort[['hadm_id', 'outcome']], on = 'hadm_id').set_index('hadm_id')\n",
    "X = full_df.loc[:, ~full_df.columns.isin(['outcome', 'hours_since_admit'])]\n",
    "y = full_df['outcome']"
   ]
  },
  {
   "cell_type": "code",
   "execution_count": 31,
   "id": "13e6ed1d",
   "metadata": {},
   "outputs": [],
   "source": [
    "## train-test split\n",
    "X_train, X_test, y_train, y_test = train_test_split(X,y, test_size = 0.8)\n",
    "\n",
    "## create scaler and apply only to numeric data before adding binary data\n",
    "scaler = StandardScaler()\n",
    "X_train_norm = scaler.fit_transform(X_train.iloc[:,:-5])\n",
    "X_train_norm = pd.DataFrame(X_train_norm, index = X_train.index, columns = X_train.columns[:-5])\n",
    "X_train_norm = X_train_norm.merge(X_train.iloc[:,-5:], left_index = True, right_index = True)\n",
    "\n",
    "##apply scaler to test data\n",
    "X_test_norm = scaler.transform(X_test.iloc[:,:-5])\n",
    "X_test_norm = pd.DataFrame(X_test_norm, index = X_test.index, columns = X_test.columns[:-5])\n",
    "X_test_norm = X_test_norm.merge(X_test.iloc[:,-5:], left_index = True, right_index = True)"
   ]
  },
  {
   "cell_type": "code",
   "execution_count": 36,
   "id": "810c1e12",
   "metadata": {},
   "outputs": [
    {
     "data": {
      "text/plain": [
       "0.798938333512392"
      ]
     },
     "execution_count": 36,
     "metadata": {},
     "output_type": "execute_result"
    }
   ],
   "source": [
    "##RF model\n",
    "clf = RandomForestClassifier(max_depth=8, random_state=0)\n",
    "clf.fit(X_train_norm, y_train)\n",
    "fpr, tpr, thresholds = metrics.roc_curve(y_test.values, clf.predict_proba(X_test_norm)[:,1])\n",
    "AUC = metrics.auc(fpr, tpr)\n",
    "AUC"
   ]
  },
  {
   "cell_type": "code",
   "execution_count": 37,
   "id": "caa1c310",
   "metadata": {},
   "outputs": [
    {
     "data": {
      "text/plain": [
       "0.793846812994218"
      ]
     },
     "execution_count": 37,
     "metadata": {},
     "output_type": "execute_result"
    }
   ],
   "source": [
    "##LR model\n",
    "clf = LogisticRegression()\n",
    "clf.fit(X_train_norm, y_train)\n",
    "fpr, tpr, thresholds = metrics.roc_curve(y_test.values, clf.predict_proba(X_test_norm)[:,1])\n",
    "AUC = metrics.auc(fpr, tpr)\n",
    "AUC"
   ]
  }
 ],
 "metadata": {
  "kernelspec": {
   "display_name": "Python 3 (ipykernel)",
   "language": "python",
   "name": "python3"
  },
  "language_info": {
   "codemirror_mode": {
    "name": "ipython",
    "version": 3
   },
   "file_extension": ".py",
   "mimetype": "text/x-python",
   "name": "python",
   "nbconvert_exporter": "python",
   "pygments_lexer": "ipython3",
   "version": "3.10.4"
  }
 },
 "nbformat": 4,
 "nbformat_minor": 5
}
